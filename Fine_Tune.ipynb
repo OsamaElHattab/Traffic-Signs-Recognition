{
 "cells": [
  {
   "cell_type": "markdown",
   "metadata": {},
   "source": [
    "## Imports"
   ]
  },
  {
   "cell_type": "code",
   "execution_count": null,
   "metadata": {},
   "outputs": [],
   "source": [
    "from datasets import load_dataset\n",
    "from transformers import AutoFeatureExtractor, AutoModelForImageClassification, TrainingArguments, Trainer, pipeline\n",
    "import torch\n",
    "import evaluate"
   ]
  },
  {
   "cell_type": "markdown",
   "metadata": {},
   "source": [
    "## Definitions"
   ]
  },
  {
   "cell_type": "code",
   "execution_count": 6,
   "metadata": {},
   "outputs": [],
   "source": [
    "DATASET_PATH = './dataset'\n",
    "MODEL_NAME = \"google/vit-base-patch16-224\"\n",
    "NUMBER_OF_CLASSES = 7\n",
    "feature_extractor = AutoFeatureExtractor.from_pretrained(MODEL_NAME)"
   ]
  },
  {
   "cell_type": "markdown",
   "metadata": {},
   "source": [
    "## Load Dataset"
   ]
  },
  {
   "cell_type": "code",
   "execution_count": null,
   "metadata": {},
   "outputs": [],
   "source": [
    "# Load dataset from local directory\n",
    "dataset = load_dataset(\"imagefolder\", data_dir=DATASET_PATH)\n",
    "\n",
    "# Split into train and validation sets if needed\n",
    "dataset = dataset[\"train\"].train_test_split(test_size=0.2)\n",
    "train_dataset = dataset[\"train\"]\n",
    "val_dataset = dataset[\"test\"]"
   ]
  },
  {
   "cell_type": "markdown",
   "metadata": {},
   "source": [
    "## Define a Preprocessing Pipeline"
   ]
  },
  {
   "cell_type": "code",
   "execution_count": null,
   "metadata": {},
   "outputs": [],
   "source": [
    "def preprocess_data(batch):\n",
    "    images = [image.convert(\"RGB\") for image in batch[\"image\"]]\n",
    "    inputs = feature_extractor(images=images, return_tensors=\"pt\")\n",
    "    inputs[\"labels\"] = batch[\"label\"]  # Change \"label\" to \"labels\" for Trainer compatibility\n",
    "    return inputs"
   ]
  },
  {
   "cell_type": "code",
   "execution_count": null,
   "metadata": {},
   "outputs": [],
   "source": [
    "train_dataset = train_dataset.map(preprocess_data, batched=True, remove_columns=[\"image\"])\n",
    "val_dataset = val_dataset.map(preprocess_data, batched=True, remove_columns=[\"image\"])\n",
    "\n",
    "# Set the format for PyTorch tensors\n",
    "train_dataset.set_format(type=\"torch\", columns=[\"pixel_values\", \"labels\"])\n",
    "val_dataset.set_format(type=\"torch\", columns=[\"pixel_values\", \"labels\"])"
   ]
  },
  {
   "cell_type": "markdown",
   "metadata": {},
   "source": [
    "## Define Model and its Params"
   ]
  },
  {
   "cell_type": "code",
   "execution_count": null,
   "metadata": {},
   "outputs": [],
   "source": [
    "device = torch.device(\"cuda\" if torch.cuda.is_available() else \"cpu\")\n",
    "print(f\"Using device: {device}\")\n",
    "num_classes = NUMBER_OF_CLASSES  # Number of road sign classes\n",
    "model = AutoModelForImageClassification.from_pretrained(\n",
    "    MODEL_NAME,\n",
    "    num_labels=num_classes,\n",
    "    ignore_mismatched_sizes=True\n",
    ").to(device)"
   ]
  },
  {
   "cell_type": "markdown",
   "metadata": {},
   "source": [
    "## Define Training arguments and Performance Metrics"
   ]
  },
  {
   "cell_type": "code",
   "execution_count": 60,
   "metadata": {},
   "outputs": [],
   "source": [
    "# Evaluation metric (accuracy)\n",
    "accuracy = evaluate.load(\"accuracy\")\n",
    "\n",
    "def compute_metrics(eval_pred):\n",
    "    logits, labels = eval_pred\n",
    "    predictions = logits.argmax(axis=-1)\n",
    "    return accuracy.compute(predictions=predictions, references=labels)\n",
    "\n",
    "# Training arguments\n",
    "training_args = TrainingArguments(\n",
    "    output_dir=\"./results\",\n",
    "    evaluation_strategy=\"epoch\",\n",
    "    save_strategy=\"epoch\",\n",
    "    learning_rate=2e-5,\n",
    "    per_device_train_batch_size=16,\n",
    "    per_device_eval_batch_size=16,\n",
    "    num_train_epochs=5,\n",
    "    weight_decay=0.01,\n",
    "    logging_dir=\"./logs\",\n",
    "    load_best_model_at_end=True,\n",
    ")\n",
    "\n",
    "# Trainer\n",
    "trainer = Trainer(\n",
    "    model=model,\n",
    "    args=training_args,\n",
    "    train_dataset=train_dataset,\n",
    "    eval_dataset=val_dataset,\n",
    "    compute_metrics=compute_metrics,\n",
    ")"
   ]
  },
  {
   "cell_type": "markdown",
   "metadata": {},
   "source": [
    "## Train/Fine Tune The Model"
   ]
  },
  {
   "cell_type": "code",
   "execution_count": null,
   "metadata": {},
   "outputs": [],
   "source": [
    "trainer.train()"
   ]
  },
  {
   "cell_type": "markdown",
   "metadata": {},
   "source": [
    "## Save The Model"
   ]
  },
  {
   "cell_type": "code",
   "execution_count": null,
   "metadata": {},
   "outputs": [],
   "source": [
    "model.save_pretrained(\"fine_tuned_model\")\n",
    "feature_extractor.save_pretrained(\"fine_tuned_model\")"
   ]
  },
  {
   "cell_type": "markdown",
   "metadata": {},
   "source": [
    "## Load The Fine Tuned Model And Use it for Classification"
   ]
  },
  {
   "cell_type": "code",
   "execution_count": 8,
   "metadata": {},
   "outputs": [
    {
     "name": "stderr",
     "output_type": "stream",
     "text": [
      "Device set to use cpu\n"
     ]
    },
    {
     "name": "stdout",
     "output_type": "stream",
     "text": [
      "Predicted class: Stop Sign\n"
     ]
    }
   ],
   "source": [
    "# Load fine-tuned model\n",
    "model_path = \"fine_tuned_model\"\n",
    "classifier = pipeline(\"image-classification\", model=model_path, feature_extractor=feature_extractor)\n",
    "\n",
    "# Predict on an image\n",
    "image_path = \"./stop.jpg\"\n",
    "predictions = classifier(image_path)\n",
    "map = {\n",
    "    \"LABEL_0\": \"Keep Left\",\n",
    "    \"LABEL_1\": \"Keep Right\",\n",
    "    \"LABEL_2\": \"No Entry\",\n",
    "    \"LABEL_3\": \"Pedestrian crossing\",\n",
    "    \"LABEL_4\": \"Stop Sign\",\n",
    "    \"LABEL_5\": \"Turn Left\",\n",
    "    \"LABEL_6\": \"Turn Right\"\n",
    "}\n",
    "print(f\"Predicted class: {map[predictions[0]['label']]}\")\n"
   ]
  }
 ],
 "metadata": {
  "kernelspec": {
   "display_name": "Python 3",
   "language": "python",
   "name": "python3"
  },
  "language_info": {
   "codemirror_mode": {
    "name": "ipython",
    "version": 3
   },
   "file_extension": ".py",
   "mimetype": "text/x-python",
   "name": "python",
   "nbconvert_exporter": "python",
   "pygments_lexer": "ipython3",
   "version": "3.12.4"
  }
 },
 "nbformat": 4,
 "nbformat_minor": 2
}
