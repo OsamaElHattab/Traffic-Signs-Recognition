{
 "cells": [
  {
   "cell_type": "markdown",
   "metadata": {},
   "source": [
    "### renaming\n"
   ]
  },
  {
   "cell_type": "code",
   "execution_count": 4,
   "metadata": {},
   "outputs": [
    {
     "name": "stdout",
     "output_type": "stream",
     "text": [
      "Renamed turn_right_022_0001.png to 022_0001.png\n",
      "Renamed turn_right_022_0001_j.png to 022_0001_j.png\n",
      "Renamed turn_right_022_0002.png to 022_0002.png\n",
      "Renamed turn_right_022_0002_j.png to 022_0002_j.png\n",
      "Renamed turn_right_022_0003.png to 022_0003.png\n",
      "Renamed turn_right_022_0004.png to 022_0004.png\n",
      "Renamed turn_right_022_0005.png to 022_0005.png\n",
      "Renamed turn_right_022_0006.png to 022_0006.png\n",
      "Renamed turn_right_022_0007_j.png to 022_0007_j.png\n",
      "Renamed turn_right_022_1_0001.png to 022_1_0001.png\n",
      "Renamed turn_right_022_1_0001_1_j.png to 022_1_0001_1_j.png\n",
      "Renamed turn_right_022_1_0002.png to 022_1_0002.png\n",
      "Renamed turn_right_022_1_0002_1_j.png to 022_1_0002_1_j.png\n",
      "Renamed turn_right_022_1_0003.png to 022_1_0003.png\n",
      "Renamed turn_right_022_1_0004.png to 022_1_0004.png\n",
      "Renamed turn_right_022_1_0005.png to 022_1_0005.png\n",
      "Renamed turn_right_022_1_0006.png to 022_1_0006.png\n",
      "Renamed turn_right_022_1_0007_1_j.png to 022_1_0007_1_j.png\n",
      "Renaming complete!\n"
     ]
    }
   ],
   "source": [
    "import os\n",
    "\n",
    "# Specify the folder where the images are stored\n",
    "folder_path = \"TSRD_Train\"\n",
    "\n",
    "# Get a list of all files in the folder\n",
    "image_files = os.listdir(folder_path)\n",
    "\n",
    "# Loop through the files and rename them\n",
    "for idx, image in enumerate(image_files):\n",
    "\n",
    "    # Generate a new name (you can customize the format)\n",
    "    if image.startswith(\"022\"):\n",
    "        new_name = f\"turn_left{image[3:]}\"\n",
    "    elif image.startswith(\"024\"):\n",
    "        new_name = f\"turn_right_{image[3:]}\"\n",
    "    else:\n",
    "        continue\n",
    "\n",
    "    #inverse the name\n",
    "    # if image.startswith(\"turn_right_\"):\n",
    "    #     new_name = f\"{image[11:]}\"\n",
    "    \n",
    "    # Construct the full file paths\n",
    "    old_path = os.path.join(folder_path, image)\n",
    "    new_path = os.path.join(folder_path, new_name)\n",
    "    \n",
    "    # Rename the file\n",
    "    os.rename(old_path, new_path)\n",
    "    print(f\"Renamed {image} to {new_name}\")\n",
    "\n",
    "print(\"Renaming complete!\")"
   ]
  },
  {
   "cell_type": "code",
   "execution_count": null,
   "metadata": {},
   "outputs": [],
   "source": [
    "# removing lines from the annotation file\n",
    "\n",
    "file = open(\"TSRD_Test_Annotation/TsignRecgTest1994Annotation.txt\", \"r\")\n",
    "lines = []\n",
    "for line in file:\n",
    "    if line.startswith(\"022\") or line.startswith(\"024\") or line.startswith(\"025\") or line.startswith(\"026\") or line.startswith(\"054\") or line.startswith(\"055\"):\n",
    "        lines.append(line)\n",
    "    else:\n",
    "        continue\n",
    "print (lines)\n",
    "\n",
    "file.close()\n",
    "\n",
    "file = open(\"TSRD_Test_Annotation/TsignRecgTest1994Annotation.txt\", \"w\")\n",
    "for line in lines:\n",
    "    file.write(line)\n",
    "file.close"
   ]
  }
 ],
 "metadata": {
  "kernelspec": {
   "display_name": "base",
   "language": "python",
   "name": "python3"
  },
  "language_info": {
   "codemirror_mode": {
    "name": "ipython",
    "version": 3
   },
   "file_extension": ".py",
   "mimetype": "text/x-python",
   "name": "python",
   "nbconvert_exporter": "python",
   "pygments_lexer": "ipython3",
   "version": "3.12.3"
  }
 },
 "nbformat": 4,
 "nbformat_minor": 2
}
